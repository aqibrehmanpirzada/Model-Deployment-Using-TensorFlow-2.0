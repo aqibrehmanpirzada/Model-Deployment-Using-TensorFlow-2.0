{
  "nbformat": 4,
  "nbformat_minor": 0,
  "metadata": {
    "colab": {
      "name": "Model Deployment Using Tensor Flow  2",
      "provenance": [],
      "collapsed_sections": []
    },
    "kernelspec": {
      "name": "python3",
      "display_name": "Python 3"
    },
    "language_info": {
      "name": "python"
    },
    "accelerator": "GPU"
  },
  "cells": [
    {
      "cell_type": "code",
      "metadata": {
        "id": "189KVgA_uHoc"
      },
      "source": [
        "import numpy as np\n",
        "import pandas as pd\n",
        "import seaborn as sns\n",
        "import os\n",
        "import random,tempfile\n",
        "import tensorflow as tf\n",
        "import matplotlib.pyplot as plt\n",
        "import json"
      ],
      "execution_count": 1,
      "outputs": []
    },
    {
      "cell_type": "code",
      "metadata": {
        "id": "_kkUta4eufGB"
      },
      "source": [
        "from tensorflow.keras.datasets import fashion_mnist"
      ],
      "execution_count": 2,
      "outputs": []
    },
    {
      "cell_type": "code",
      "metadata": {
        "colab": {
          "base_uri": "https://localhost:8080/"
        },
        "id": "2vCRzZ-yu9Fh",
        "outputId": "651b6b25-d0f5-43e2-c7e1-f08da94009bb"
      },
      "source": [
        "(X_train,y_train), (X_test,y_test) = fashion_mnist.load_data()"
      ],
      "execution_count": 3,
      "outputs": [
        {
          "output_type": "stream",
          "name": "stdout",
          "text": [
            "Downloading data from https://storage.googleapis.com/tensorflow/tf-keras-datasets/train-labels-idx1-ubyte.gz\n",
            "32768/29515 [=================================] - 0s 0us/step\n",
            "40960/29515 [=========================================] - 0s 0us/step\n",
            "Downloading data from https://storage.googleapis.com/tensorflow/tf-keras-datasets/train-images-idx3-ubyte.gz\n",
            "26427392/26421880 [==============================] - 0s 0us/step\n",
            "26435584/26421880 [==============================] - 0s 0us/step\n",
            "Downloading data from https://storage.googleapis.com/tensorflow/tf-keras-datasets/t10k-labels-idx1-ubyte.gz\n",
            "16384/5148 [===============================================================================================] - 0s 0us/step\n",
            "Downloading data from https://storage.googleapis.com/tensorflow/tf-keras-datasets/t10k-images-idx3-ubyte.gz\n",
            "4423680/4422102 [==============================] - 0s 0us/step\n",
            "4431872/4422102 [==============================] - 0s 0us/step\n"
          ]
        }
      ]
    },
    {
      "cell_type": "code",
      "metadata": {
        "id": "aSWmxuBPvGMx"
      },
      "source": [
        "X_train = X_train/255.0\n",
        "X_test = X_test/255.0"
      ],
      "execution_count": 4,
      "outputs": []
    },
    {
      "cell_type": "code",
      "metadata": {
        "id": "eRfokKSIvdK6"
      },
      "source": [
        "X_train = X_train.reshape(X_train.shape[0],28,28,1) \n",
        "X_test = X_test.reshape(X_test.shape[0],28,28,1)"
      ],
      "execution_count": 5,
      "outputs": []
    },
    {
      "cell_type": "code",
      "metadata": {
        "colab": {
          "base_uri": "https://localhost:8080/"
        },
        "id": "e4b4gLLev_Ne",
        "outputId": "c02c89f0-65fa-49bd-863d-54e98d123038"
      },
      "source": [
        "X_train.shape"
      ],
      "execution_count": 6,
      "outputs": [
        {
          "output_type": "execute_result",
          "data": {
            "text/plain": [
              "(60000, 28, 28, 1)"
            ]
          },
          "metadata": {},
          "execution_count": 6
        }
      ]
    },
    {
      "cell_type": "code",
      "metadata": {
        "colab": {
          "base_uri": "https://localhost:8080/"
        },
        "id": "yQ5uE-tqwKxg",
        "outputId": "5b342040-70ad-42b6-b8cf-87bca227d53c"
      },
      "source": [
        "X_test.shape"
      ],
      "execution_count": 7,
      "outputs": [
        {
          "output_type": "execute_result",
          "data": {
            "text/plain": [
              "(10000, 28, 28, 1)"
            ]
          },
          "metadata": {},
          "execution_count": 7
        }
      ]
    },
    {
      "cell_type": "code",
      "metadata": {
        "colab": {
          "base_uri": "https://localhost:8080/"
        },
        "id": "rFBZcyapwNtT",
        "outputId": "a57b451d-b7c4-4434-d080-468ba9cb4772"
      },
      "source": [
        "print(\"The Length of the X_train is \",len(X_train))\n",
        "print(\"The Length of the X_test is \",len(X_test))\n"
      ],
      "execution_count": 8,
      "outputs": [
        {
          "output_type": "stream",
          "name": "stdout",
          "text": [
            "The Length of the X_train is  60000\n",
            "The Length of the X_test is  10000\n"
          ]
        }
      ]
    },
    {
      "cell_type": "code",
      "metadata": {
        "id": "PkhUHpP6woL_"
      },
      "source": [
        "W_grid = 4\n",
        "L_grid = 4"
      ],
      "execution_count": 9,
      "outputs": []
    },
    {
      "cell_type": "code",
      "metadata": {
        "id": "ShrYkW-ExNkQ"
      },
      "source": [
        "class_names = ['T_Shirts','Trousers','Pullover','Dress','Coat','Sandal','Shirt','Sneaker','Bag','Ankle_Boot']"
      ],
      "execution_count": 10,
      "outputs": []
    },
    {
      "cell_type": "code",
      "metadata": {
        "colab": {
          "base_uri": "https://localhost:8080/",
          "height": 862
        },
        "id": "WYbeqM_uwwe3",
        "outputId": "21994920-d1f0-4bf7-e1c5-a96369d9e355"
      },
      "source": [
        "fig,axes = plt.subplots(L_grid,W_grid,figsize=(15,15))\n",
        "axes = axes.ravel()\n",
        "n_training = len(X_train)\n",
        "for i in np.arange(0,W_grid * L_grid):\n",
        "  index = np.random.randint(0,n_training)\n",
        "  axes[i].imshow(X_train[index].reshape(28,28))\n",
        "  axes[i].set_title(y_train[index])\n",
        "  axes[i].axis('off')\n",
        "plt.subplots_adjust(hspace=0.4)"
      ],
      "execution_count": 11,
      "outputs": [
        {
          "output_type": "display_data",
          "data": {
            "image/png": "[encoded data removed]",
            "text/plain": [
              "<Figure size 1080x1080 with 16 Axes>"
            ]
          },
          "metadata": {
            "needs_background": "light"
          }
        }
      ]
    },
    {
      "cell_type": "code",
      "metadata": {
        "id": "-HRYsOEwxWNt"
      },
      "source": [
        "cnn = tf.keras.models.Sequential()"
      ],
      "execution_count": 12,
      "outputs": []
    },
    {
      "cell_type": "code",
      "metadata": {
        "id": "a0hvAFjv0Opc"
      },
      "source": [
        "cnn.add(tf.keras.layers.Conv2D(32,(3,3),activation='relu',strides=(1,1),padding='valid',input_shape = (28,28,1)))"
      ],
      "execution_count": 13,
      "outputs": []
    },
    {
      "cell_type": "code",
      "metadata": {
        "id": "Zpnb9NJQ01uB"
      },
      "source": [
        "cnn.add(tf.keras.layers.MaxPool2D(2,2))"
      ],
      "execution_count": 14,
      "outputs": []
    },
    {
      "cell_type": "code",
      "metadata": {
        "id": "dG1rTl5a1A_g"
      },
      "source": [
        "cnn.add(tf.keras.layers.Flatten())"
      ],
      "execution_count": 15,
      "outputs": []
    },
    {
      "cell_type": "code",
      "metadata": {
        "id": "hDIdwpH01Gvk"
      },
      "source": [
        "cnn.add(tf.keras.layers.Dense(units=64,activation='relu',use_bias=True))"
      ],
      "execution_count": 16,
      "outputs": []
    },
    {
      "cell_type": "code",
      "metadata": {
        "id": "rKfp7er81f0T"
      },
      "source": [
        "cnn.add(tf.keras.layers.Dense(units=10,activation='softmax'))"
      ],
      "execution_count": 17,
      "outputs": []
    },
    {
      "cell_type": "code",
      "metadata": {
        "colab": {
          "base_uri": "https://localhost:8080/"
        },
        "id": "zEYscJSO1uJb",
        "outputId": "c4364069-99db-41a8-ef1e-6d110c341979"
      },
      "source": [
        "cnn.summary()"
      ],
      "execution_count": 18,
      "outputs": [
        {
          "output_type": "stream",
          "name": "stdout",
          "text": [
            "Model: \"sequential\"\n",
            "_________________________________________________________________\n",
            "Layer (type)                 Output Shape              Param #   \n",
            "=================================================================\n",
            "conv2d (Conv2D)              (None, 26, 26, 32)        320       \n",
            "_________________________________________________________________\n",
            "max_pooling2d (MaxPooling2D) (None, 13, 13, 32)        0         \n",
            "_________________________________________________________________\n",
            "flatten (Flatten)            (None, 5408)              0         \n",
            "_________________________________________________________________\n",
            "dense (Dense)                (None, 64)                346176    \n",
            "_________________________________________________________________\n",
            "dense_1 (Dense)              (None, 10)                650       \n",
            "=================================================================\n",
            "Total params: 347,146\n",
            "Trainable params: 347,146\n",
            "Non-trainable params: 0\n",
            "_________________________________________________________________\n"
          ]
        }
      ]
    },
    {
      "cell_type": "code",
      "metadata": {
        "id": "UXFqyi0T13wn"
      },
      "source": [
        "epoches = 5\n",
        "cnn.compile(optimizer = tf.keras.optimizers.Adam(),\n",
        "              loss = 'sparse_categorical_crossentropy',\n",
        "              metrics=['accuracy'])"
      ],
      "execution_count": 19,
      "outputs": []
    },
    {
      "cell_type": "code",
      "metadata": {
        "colab": {
          "base_uri": "https://localhost:8080/"
        },
        "id": "evoKx8pwLtrD",
        "outputId": "0c5bc258-b5d0-452d-d933-a914f9db307a"
      },
      "source": [
        "cnn.fit(X_train,y_train,epochs=epoches)"
      ],
      "execution_count": 20,
      "outputs": [
        {
          "output_type": "stream",
          "name": "stdout",
          "text": [
            "Epoch 1/5\n",
            "1875/1875 [==============================] - 32s 17ms/step - loss: 0.4151 - accuracy: 0.8541\n",
            "Epoch 2/5\n",
            "1875/1875 [==============================] - 31s 17ms/step - loss: 0.2797 - accuracy: 0.8995\n",
            "Epoch 3/5\n",
            "1875/1875 [==============================] - 30s 16ms/step - loss: 0.2380 - accuracy: 0.9134\n",
            "Epoch 4/5\n",
            "1875/1875 [==============================] - 30s 16ms/step - loss: 0.2082 - accuracy: 0.9238\n",
            "Epoch 5/5\n",
            "1875/1875 [==============================] - 30s 16ms/step - loss: 0.1853 - accuracy: 0.9309\n"
          ]
        },
        {
          "output_type": "execute_result",
          "data": {
            "text/plain": [
              "<keras.callbacks.History at 0x7fa83499d210>"
            ]
          },
          "metadata": {},
          "execution_count": 20
        }
      ]
    },
    {
      "cell_type": "code",
      "metadata": {
        "colab": {
          "base_uri": "https://localhost:8080/"
        },
        "id": "Gj_9TozaM3DU",
        "outputId": "1aad6ab8-f4fb-47c1-a909-09887616ecd5"
      },
      "source": [
        "test_loss,test_acc = cnn.evaluate(X_train,y_train,verbose=1)"
      ],
      "execution_count": 21,
      "outputs": [
        {
          "output_type": "stream",
          "name": "stdout",
          "text": [
            "1875/1875 [==============================] - 11s 6ms/step - loss: 0.1501 - accuracy: 0.9459\n"
          ]
        }
      ]
    },
    {
      "cell_type": "code",
      "metadata": {
        "colab": {
          "base_uri": "https://localhost:8080/"
        },
        "id": "X0be_W13rmCN",
        "outputId": "607a036c-328c-402b-92b0-8d2ce11ce13e"
      },
      "source": [
        "print(\"The Test Accuracy is \",test_acc)"
      ],
      "execution_count": 22,
      "outputs": [
        {
          "output_type": "stream",
          "name": "stdout",
          "text": [
            "The Test Accuracy is  0.945900022983551\n"
          ]
        }
      ]
    },
    {
      "cell_type": "code",
      "metadata": {
        "colab": {
          "base_uri": "https://localhost:8080/"
        },
        "id": "EdKFGI3drrAa",
        "outputId": "4d10a4af-6019-49d6-f3b1-780c9320fbc8"
      },
      "source": [
        "print(\"The Test Loss is \",test_loss)"
      ],
      "execution_count": 23,
      "outputs": [
        {
          "output_type": "stream",
          "name": "stdout",
          "text": [
            "The Test Loss is  0.15012449026107788\n"
          ]
        }
      ]
    },
    {
      "cell_type": "code",
      "metadata": {
        "id": "O6ulyh0kr2pO"
      },
      "source": [
        "import tempfile"
      ],
      "execution_count": 24,
      "outputs": []
    },
    {
      "cell_type": "code",
      "metadata": {
        "id": "iWF1yAt_sK_J"
      },
      "source": [
        "Model = tempfile.gettempdir()"
      ],
      "execution_count": 25,
      "outputs": []
    },
    {
      "cell_type": "code",
      "metadata": {
        "colab": {
          "base_uri": "https://localhost:8080/"
        },
        "id": "6lZGppjSsWZM",
        "outputId": "954ff666-6369-4678-a370-e1ea212e26b4"
      },
      "source": [
        "print(Model)"
      ],
      "execution_count": 26,
      "outputs": [
        {
          "output_type": "stream",
          "name": "stdout",
          "text": [
            "/tmp\n"
          ]
        }
      ]
    },
    {
      "cell_type": "code",
      "metadata": {
        "id": "iO8XPxl5sy1G"
      },
      "source": [
        "version = 1"
      ],
      "execution_count": 27,
      "outputs": []
    },
    {
      "cell_type": "code",
      "metadata": {
        "id": "OpqsK5xFsZiW"
      },
      "source": [
        "export_path = os.path.join(Model,str(version))"
      ],
      "execution_count": 28,
      "outputs": []
    },
    {
      "cell_type": "code",
      "metadata": {
        "colab": {
          "base_uri": "https://localhost:8080/"
        },
        "id": "SMOthWk3su1d",
        "outputId": "2310d64d-f866-453f-952d-4e0500fad23d"
      },
      "source": [
        "print(\"The Export Path of the the \",export_path)"
      ],
      "execution_count": 29,
      "outputs": [
        {
          "output_type": "stream",
          "name": "stdout",
          "text": [
            "The Export Path of the the  /tmp/1\n"
          ]
        }
      ]
    },
    {
      "cell_type": "code",
      "metadata": {
        "id": "9Uy-5TzLvotJ"
      },
      "source": [
        "cnn.save('model1.h5')"
      ],
      "execution_count": 30,
      "outputs": []
    },
    {
      "cell_type": "code",
      "metadata": {
        "id": "69fXBu2IyG7V"
      },
      "source": [
        "from tensorflow.keras.models import load_model"
      ],
      "execution_count": 31,
      "outputs": []
    },
    {
      "cell_type": "code",
      "metadata": {
        "id": "3WUPiLOZvQ4i"
      },
      "source": [
        "new_model = load_model('model1.h5')"
      ],
      "execution_count": 32,
      "outputs": []
    },
    {
      "cell_type": "code",
      "metadata": {
        "colab": {
          "base_uri": "https://localhost:8080/"
        },
        "id": "Dw8d7bQqxuLD",
        "outputId": "3aae3a9e-8153-4b3f-ff6b-4722aee7e03e"
      },
      "source": [
        "print(new_model)"
      ],
      "execution_count": 33,
      "outputs": [
        {
          "output_type": "stream",
          "name": "stdout",
          "text": [
            "<keras.engine.sequential.Sequential object at 0x7fa82b88bb10>\n"
          ]
        }
      ]
    },
    {
      "cell_type": "code",
      "metadata": {
        "colab": {
          "base_uri": "https://localhost:8080/"
        },
        "id": "4mmBeeGpyQqZ",
        "outputId": "5a560cab-969d-4abd-8879-472630e0d0e6"
      },
      "source": [
        "!apt-get install tensorflow-model-server"
      ],
      "execution_count": 34,
      "outputs": [
        {
          "output_type": "stream",
          "name": "stdout",
          "text": [
            "Reading package lists... Done\n",
            "Building dependency tree       \n",
            "Reading state information... Done\n",
            "E: Unable to locate package tensorflow-model-server\n"
          ]
        }
      ]
    },
    {
      "cell_type": "code",
      "metadata": {
        "colab": {
          "base_uri": "https://localhost:8080/"
        },
        "id": "RqoJf0BbV_L6",
        "outputId": "8038c9ca-b1e2-4f12-83bf-b0cd76f12a5d"
      },
      "source": [
        "new_model.summary()"
      ],
      "execution_count": 35,
      "outputs": [
        {
          "output_type": "stream",
          "name": "stdout",
          "text": [
            "Model: \"sequential\"\n",
            "_________________________________________________________________\n",
            "Layer (type)                 Output Shape              Param #   \n",
            "=================================================================\n",
            "conv2d (Conv2D)              (None, 26, 26, 32)        320       \n",
            "_________________________________________________________________\n",
            "max_pooling2d (MaxPooling2D) (None, 13, 13, 32)        0         \n",
            "_________________________________________________________________\n",
            "flatten (Flatten)            (None, 5408)              0         \n",
            "_________________________________________________________________\n",
            "dense (Dense)                (None, 64)                346176    \n",
            "_________________________________________________________________\n",
            "dense_1 (Dense)              (None, 10)                650       \n",
            "=================================================================\n",
            "Total params: 347,146\n",
            "Trainable params: 347,146\n",
            "Non-trainable params: 0\n",
            "_________________________________________________________________\n"
          ]
        }
      ]
    },
    {
      "cell_type": "code",
      "metadata": {
        "id": "dm3SxFtHXBqI"
      },
      "source": [
        "pred = new_model.predict(X_test)"
      ],
      "execution_count": 36,
      "outputs": []
    },
    {
      "cell_type": "code",
      "metadata": {
        "id": "PdoKUT9JXJqY"
      },
      "source": [
        "import matplotlib.pyplot as plt\n",
        "import seaborn as sns\n"
      ],
      "execution_count": 37,
      "outputs": []
    },
    {
      "cell_type": "code",
      "metadata": {
        "colab": {
          "base_uri": "https://localhost:8080/",
          "height": 445
        },
        "id": "HjdF5JA9Xbls",
        "outputId": "8d2a647b-dc20-430d-b6f6-71a1472c62d1"
      },
      "source": [
        "plt.plot(pred)"
      ],
      "execution_count": 38,
      "outputs": [
        {
          "output_type": "execute_result",
          "data": {
            "text/plain": [
              "[<matplotlib.lines.Line2D at 0x7fa82d7a6c50>,\n",
              " <matplotlib.lines.Line2D at 0x7fa82e8cb710>,\n",
              " <matplotlib.lines.Line2D at 0x7fa82e89a1d0>,\n",
              " <matplotlib.lines.Line2D at 0x7fa82e89a390>,\n",
              " <matplotlib.lines.Line2D at 0x7fa82e89a550>,\n",
              " <matplotlib.lines.Line2D at 0x7fa82e89a710>,\n",
              " <matplotlib.lines.Line2D at 0x7fa82e89a950>,\n",
              " <matplotlib.lines.Line2D at 0x7fa82e89ab10>,\n",
              " <matplotlib.lines.Line2D at 0x7fa82e89acd0>,\n",
              " <matplotlib.lines.Line2D at 0x7fa82e89a750>]"
            ]
          },
          "metadata": {},
          "execution_count": 38
        },
        {
          "output_type": "display_data",
          "data": {
            "image/png": "[encoded data removed]",
            "text/plain": [
              "<Figure size 432x288 with 1 Axes>"
            ]
          },
          "metadata": {
            "needs_background": "light"
          }
        }
      ]
    },
    {
      "cell_type": "code",
      "metadata": {
        "id": "Bf5XKsFYX8pa"
      },
      "source": [
        ""
      ],
      "execution_count": 38,
      "outputs": []
    },
    {
      "cell_type": "code",
      "metadata": {
        "id": "zuVQ7iK7YF5j"
      },
      "source": [
        "df = pd.DataFrame(pred)"
      ],
      "execution_count": 39,
      "outputs": []
    },
    {
      "cell_type": "code",
      "metadata": {
        "colab": {
          "base_uri": "https://localhost:8080/"
        },
        "id": "equ2JoRCa4VG",
        "outputId": "8473aa4b-c0e1-46d8-eda3-85fd3191ddf6"
      },
      "source": [
        "print(df.columns)"
      ],
      "execution_count": 40,
      "outputs": [
        {
          "output_type": "stream",
          "name": "stdout",
          "text": [
            "RangeIndex(start=0, stop=10, step=1)\n"
          ]
        }
      ]
    },
    {
      "cell_type": "code",
      "metadata": {
        "colab": {
          "base_uri": "https://localhost:8080/"
        },
        "id": "dNrG9GWsnkve",
        "outputId": "20259539-1937-4c70-dd52-c5c1b1640bc0"
      },
      "source": [
        "print(df)"
      ],
      "execution_count": 41,
      "outputs": [
        {
          "output_type": "stream",
          "name": "stdout",
          "text": [
            "                 0             1  ...             8             9\n",
            "0     1.322850e-05  4.481147e-08  ...  2.379701e-05  9.978732e-01\n",
            "1     7.850808e-05  5.230361e-10  ...  2.772278e-09  1.021934e-12\n",
            "2     1.750717e-07  9.999998e-01  ...  1.662674e-10  9.048321e-15\n",
            "3     4.143480e-07  9.999937e-01  ...  7.261410e-11  1.372702e-12\n",
            "4     1.322441e-01  6.303522e-06  ...  5.488171e-06  1.662674e-06\n",
            "...            ...           ...  ...           ...           ...\n",
            "9995  2.234897e-07  7.173598e-11  ...  2.398439e-08  9.999825e-01\n",
            "9996  1.238415e-05  9.998167e-01  ...  2.524864e-08  1.042237e-09\n",
            "9997  6.833152e-06  2.717187e-10  ...  9.999456e-01  4.874300e-10\n",
            "9998  1.282749e-08  9.999971e-01  ...  9.030257e-09  4.696432e-12\n",
            "9999  3.181343e-04  1.024205e-06  ...  6.739439e-03  3.247884e-04\n",
            "\n",
            "[10000 rows x 10 columns]\n"
          ]
        }
      ]
    }
  ]
}